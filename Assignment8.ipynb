{
 "cells": [
  {
   "cell_type": "markdown",
   "metadata": {},
   "source": [
    "## Assignment 8\n",
    "Load the data from auto-mpg.data into a pandas DataFrame. Perform some minor cleanup and transformation tasks, then use exploratory data analysis to learn about the distribution of variables and the relationship between variables."
   ]
  },
  {
   "cell_type": "markdown",
   "metadata": {},
   "source": [
    "### Import modules. Then read in data, specifying column names, and index by car name."
   ]
  },
  {
   "cell_type": "code",
   "execution_count": 88,
   "metadata": {},
   "outputs": [
    {
     "data": {
      "text/html": [
       "<div>\n",
       "<style>\n",
       "    .dataframe thead tr:only-child th {\n",
       "        text-align: right;\n",
       "    }\n",
       "\n",
       "    .dataframe thead th {\n",
       "        text-align: left;\n",
       "    }\n",
       "\n",
       "    .dataframe tbody tr th {\n",
       "        vertical-align: top;\n",
       "    }\n",
       "</style>\n",
       "<table border=\"1\" class=\"dataframe\">\n",
       "  <thead>\n",
       "    <tr style=\"text-align: right;\">\n",
       "      <th></th>\n",
       "      <th>mpg</th>\n",
       "      <th>cylinders</th>\n",
       "      <th>displacement</th>\n",
       "      <th>horsepower</th>\n",
       "      <th>weight</th>\n",
       "      <th>acceleration</th>\n",
       "      <th>model_year</th>\n",
       "      <th>origin</th>\n",
       "    </tr>\n",
       "    <tr>\n",
       "      <th>car_name</th>\n",
       "      <th></th>\n",
       "      <th></th>\n",
       "      <th></th>\n",
       "      <th></th>\n",
       "      <th></th>\n",
       "      <th></th>\n",
       "      <th></th>\n",
       "      <th></th>\n",
       "    </tr>\n",
       "  </thead>\n",
       "  <tbody>\n",
       "    <tr>\n",
       "      <th>\"chevrolet chevelle malibu\"</th>\n",
       "      <td>18.0</td>\n",
       "      <td>8</td>\n",
       "      <td>307.0</td>\n",
       "      <td>130.0</td>\n",
       "      <td>3504.0</td>\n",
       "      <td>12.0</td>\n",
       "      <td>70</td>\n",
       "      <td>1</td>\n",
       "    </tr>\n",
       "    <tr>\n",
       "      <th>\"buick skylark 320\"</th>\n",
       "      <td>15.0</td>\n",
       "      <td>8</td>\n",
       "      <td>350.0</td>\n",
       "      <td>165.0</td>\n",
       "      <td>3693.0</td>\n",
       "      <td>11.5</td>\n",
       "      <td>70</td>\n",
       "      <td>1</td>\n",
       "    </tr>\n",
       "    <tr>\n",
       "      <th>\"plymouth satellite\"</th>\n",
       "      <td>18.0</td>\n",
       "      <td>8</td>\n",
       "      <td>318.0</td>\n",
       "      <td>150.0</td>\n",
       "      <td>3436.0</td>\n",
       "      <td>11.0</td>\n",
       "      <td>70</td>\n",
       "      <td>1</td>\n",
       "    </tr>\n",
       "    <tr>\n",
       "      <th>\"amc rebel sst\"</th>\n",
       "      <td>16.0</td>\n",
       "      <td>8</td>\n",
       "      <td>304.0</td>\n",
       "      <td>150.0</td>\n",
       "      <td>3433.0</td>\n",
       "      <td>12.0</td>\n",
       "      <td>70</td>\n",
       "      <td>1</td>\n",
       "    </tr>\n",
       "    <tr>\n",
       "      <th>\"ford torino\"</th>\n",
       "      <td>17.0</td>\n",
       "      <td>8</td>\n",
       "      <td>302.0</td>\n",
       "      <td>140.0</td>\n",
       "      <td>3449.0</td>\n",
       "      <td>10.5</td>\n",
       "      <td>70</td>\n",
       "      <td>1</td>\n",
       "    </tr>\n",
       "  </tbody>\n",
       "</table>\n",
       "</div>"
      ],
      "text/plain": [
       "                              mpg  cylinders  displacement horsepower  weight  \\\n",
       "car_name                                                                        \n",
       "\"chevrolet chevelle malibu\"  18.0          8         307.0      130.0  3504.0   \n",
       "\"buick skylark 320\"          15.0          8         350.0      165.0  3693.0   \n",
       "\"plymouth satellite\"         18.0          8         318.0      150.0  3436.0   \n",
       "\"amc rebel sst\"              16.0          8         304.0      150.0  3433.0   \n",
       "\"ford torino\"                17.0          8         302.0      140.0  3449.0   \n",
       "\n",
       "                             acceleration  model_year  origin  \n",
       "car_name                                                       \n",
       "\"chevrolet chevelle malibu\"          12.0          70       1  \n",
       "\"buick skylark 320\"                  11.5          70       1  \n",
       "\"plymouth satellite\"                 11.0          70       1  \n",
       "\"amc rebel sst\"                      12.0          70       1  \n",
       "\"ford torino\"                        10.5          70       1  "
      ]
     },
     "execution_count": 88,
     "metadata": {},
     "output_type": "execute_result"
    }
   ],
   "source": [
    "import numpy as np\n",
    "import matplotlib.pyplot as plt\n",
    "import pandas as pd\n",
    "from pandas import DataFrame, Series \n",
    "import seaborn as sns \n",
    "%matplotlib inline\n",
    "import pylab as pl\n",
    "from pandas import *\n",
    "\n",
    "cars = pd.read_fwf('https://archive.ics.uci.edu/ml/machine-learning-databases/auto-mpg/auto-mpg.data', header=None, names=['mpg', 'cylinders', 'displacement', 'horsepower', 'weight', 'acceleration', 'model_year', 'origin', 'car_name']).set_index('car_name')\n",
    "cars.head()\n"
   ]
  },
  {
   "cell_type": "markdown",
   "metadata": {},
   "source": [
    "### Replace ‘?’ values in the horsepower column with a pandas-appropriate missing value, then convert the column to numeric."
   ]
  },
  {
   "cell_type": "code",
   "execution_count": 89,
   "metadata": {},
   "outputs": [
    {
     "data": {
      "text/plain": [
       "car_name\n",
       "\"chevrolet chevelle malibu\"           130.0\n",
       "\"buick skylark 320\"                   165.0\n",
       "\"plymouth satellite\"                  150.0\n",
       "\"amc rebel sst\"                       150.0\n",
       "\"ford torino\"                         140.0\n",
       "\"ford galaxie 500\"                    198.0\n",
       "\"chevrolet impala\"                    220.0\n",
       "\"plymouth fury iii\"                   215.0\n",
       "\"pontiac catalina\"                    225.0\n",
       "\"amc ambassador dpl\"                  190.0\n",
       "\"dodge challenger se\"                 170.0\n",
       "\"plymouth 'cuda 340\"                  160.0\n",
       "\"chevrolet monte carlo\"               150.0\n",
       "\"buick estate wagon (sw)\"             225.0\n",
       "\"toyota corona mark ii\"                95.0\n",
       "\"plymouth duster\"                      95.0\n",
       "\"amc hornet\"                           97.0\n",
       "\"ford maverick\"                        85.0\n",
       "\"datsun pl510\"                         88.0\n",
       "\"volkswagen 1131 deluxe sedan\"         46.0\n",
       "\"peugeot 504\"                          87.0\n",
       "\"audi 100 ls\"                          90.0\n",
       "\"saab 99e\"                             95.0\n",
       "\"bmw 2002\"                            113.0\n",
       "\"amc gremlin\"                          90.0\n",
       "\"ford f250\"                           215.0\n",
       "\"chevy c20\"                           200.0\n",
       "\"dodge d200\"                          210.0\n",
       "\"hi 1200d\"                            193.0\n",
       "\"datsun pl510\"                         88.0\n",
       "                                      ...  \n",
       "\"chevrolet cavalier wagon\"             88.0\n",
       "\"chevrolet cavalier 2-door\"            88.0\n",
       "\"pontiac j2000 se hatchback\"           85.0\n",
       "\"dodge aries se\"                       84.0\n",
       "\"pontiac phoenix\"                      90.0\n",
       "\"ford fairmont futura\"                 92.0\n",
       "\"amc concord dl\"                        NaN\n",
       "\"volkswagen rabbit l\"                  74.0\n",
       "\"mazda glc custom l\"                   68.0\n",
       "\"mazda glc custom\"                     68.0\n",
       "\"plymouth horizon miser\"               63.0\n",
       "\"mercury lynx l\"                       70.0\n",
       "\"nissan stanza xe\"                     88.0\n",
       "\"honda accord\"                         75.0\n",
       "\"toyota corolla\"                       70.0\n",
       "\"honda civic\"                          67.0\n",
       "\"honda civic (auto)\"                   67.0\n",
       "\"datsun 310 gx\"                        67.0\n",
       "\"buick century limited\"               110.0\n",
       "\"oldsmobile cutlass ciera (diesel)     85.0\n",
       "\"chrysler lebaron medallion\"           92.0\n",
       "\"ford granada l\"                      112.0\n",
       "\"toyota celica gt\"                     96.0\n",
       "\"dodge charger 2.2\"                    84.0\n",
       "\"chevrolet camaro\"                     90.0\n",
       "\"ford mustang gl\"                      86.0\n",
       "\"vw pickup\"                            52.0\n",
       "\"dodge rampage\"                        84.0\n",
       "\"ford ranger\"                          79.0\n",
       "\"chevy s-10\"                           82.0\n",
       "Name: horsepower, Length: 398, dtype: float64"
      ]
     },
     "execution_count": 89,
     "metadata": {},
     "output_type": "execute_result"
    }
   ],
   "source": [
    "cars = cars.replace('?', np.nan)\n",
    "cars['horsepower'].astype(float)"
   ]
  },
  {
   "cell_type": "markdown",
   "metadata": {},
   "source": [
    "### Convert the origin column values from 1, 2, and 3 to ‘USA’, ‘Asia’, and ‘Europe’."
   ]
  },
  {
   "cell_type": "code",
   "execution_count": 90,
   "metadata": {},
   "outputs": [
    {
     "data": {
      "text/html": [
       "<div>\n",
       "<style>\n",
       "    .dataframe thead tr:only-child th {\n",
       "        text-align: right;\n",
       "    }\n",
       "\n",
       "    .dataframe thead th {\n",
       "        text-align: left;\n",
       "    }\n",
       "\n",
       "    .dataframe tbody tr th {\n",
       "        vertical-align: top;\n",
       "    }\n",
       "</style>\n",
       "<table border=\"1\" class=\"dataframe\">\n",
       "  <thead>\n",
       "    <tr style=\"text-align: right;\">\n",
       "      <th></th>\n",
       "      <th>mpg</th>\n",
       "      <th>cylinders</th>\n",
       "      <th>displacement</th>\n",
       "      <th>horsepower</th>\n",
       "      <th>weight</th>\n",
       "      <th>acceleration</th>\n",
       "      <th>model_year</th>\n",
       "      <th>origin</th>\n",
       "    </tr>\n",
       "    <tr>\n",
       "      <th>car_name</th>\n",
       "      <th></th>\n",
       "      <th></th>\n",
       "      <th></th>\n",
       "      <th></th>\n",
       "      <th></th>\n",
       "      <th></th>\n",
       "      <th></th>\n",
       "      <th></th>\n",
       "    </tr>\n",
       "  </thead>\n",
       "  <tbody>\n",
       "    <tr>\n",
       "      <th>\"chrysler lebaron medallion\"</th>\n",
       "      <td>26.0</td>\n",
       "      <td>4</td>\n",
       "      <td>156.0</td>\n",
       "      <td>92.00</td>\n",
       "      <td>2585.0</td>\n",
       "      <td>14.5</td>\n",
       "      <td>82</td>\n",
       "      <td>USA</td>\n",
       "    </tr>\n",
       "    <tr>\n",
       "      <th>\"ford granada l\"</th>\n",
       "      <td>22.0</td>\n",
       "      <td>6</td>\n",
       "      <td>232.0</td>\n",
       "      <td>112.0</td>\n",
       "      <td>2835.0</td>\n",
       "      <td>14.7</td>\n",
       "      <td>82</td>\n",
       "      <td>USA</td>\n",
       "    </tr>\n",
       "    <tr>\n",
       "      <th>\"toyota celica gt\"</th>\n",
       "      <td>32.0</td>\n",
       "      <td>4</td>\n",
       "      <td>144.0</td>\n",
       "      <td>96.00</td>\n",
       "      <td>2665.0</td>\n",
       "      <td>13.9</td>\n",
       "      <td>82</td>\n",
       "      <td>Europe</td>\n",
       "    </tr>\n",
       "    <tr>\n",
       "      <th>\"dodge charger 2.2\"</th>\n",
       "      <td>36.0</td>\n",
       "      <td>4</td>\n",
       "      <td>135.0</td>\n",
       "      <td>84.00</td>\n",
       "      <td>2370.0</td>\n",
       "      <td>13.0</td>\n",
       "      <td>82</td>\n",
       "      <td>USA</td>\n",
       "    </tr>\n",
       "    <tr>\n",
       "      <th>\"chevrolet camaro\"</th>\n",
       "      <td>27.0</td>\n",
       "      <td>4</td>\n",
       "      <td>151.0</td>\n",
       "      <td>90.00</td>\n",
       "      <td>2950.0</td>\n",
       "      <td>17.3</td>\n",
       "      <td>82</td>\n",
       "      <td>USA</td>\n",
       "    </tr>\n",
       "    <tr>\n",
       "      <th>\"ford mustang gl\"</th>\n",
       "      <td>27.0</td>\n",
       "      <td>4</td>\n",
       "      <td>140.0</td>\n",
       "      <td>86.00</td>\n",
       "      <td>2790.0</td>\n",
       "      <td>15.6</td>\n",
       "      <td>82</td>\n",
       "      <td>USA</td>\n",
       "    </tr>\n",
       "    <tr>\n",
       "      <th>\"vw pickup\"</th>\n",
       "      <td>44.0</td>\n",
       "      <td>4</td>\n",
       "      <td>97.0</td>\n",
       "      <td>52.00</td>\n",
       "      <td>2130.0</td>\n",
       "      <td>24.6</td>\n",
       "      <td>82</td>\n",
       "      <td>Asia</td>\n",
       "    </tr>\n",
       "    <tr>\n",
       "      <th>\"dodge rampage\"</th>\n",
       "      <td>32.0</td>\n",
       "      <td>4</td>\n",
       "      <td>135.0</td>\n",
       "      <td>84.00</td>\n",
       "      <td>2295.0</td>\n",
       "      <td>11.6</td>\n",
       "      <td>82</td>\n",
       "      <td>USA</td>\n",
       "    </tr>\n",
       "    <tr>\n",
       "      <th>\"ford ranger\"</th>\n",
       "      <td>28.0</td>\n",
       "      <td>4</td>\n",
       "      <td>120.0</td>\n",
       "      <td>79.00</td>\n",
       "      <td>2625.0</td>\n",
       "      <td>18.6</td>\n",
       "      <td>82</td>\n",
       "      <td>USA</td>\n",
       "    </tr>\n",
       "    <tr>\n",
       "      <th>\"chevy s-10\"</th>\n",
       "      <td>31.0</td>\n",
       "      <td>4</td>\n",
       "      <td>119.0</td>\n",
       "      <td>82.00</td>\n",
       "      <td>2720.0</td>\n",
       "      <td>19.4</td>\n",
       "      <td>82</td>\n",
       "      <td>USA</td>\n",
       "    </tr>\n",
       "  </tbody>\n",
       "</table>\n",
       "</div>"
      ],
      "text/plain": [
       "                               mpg  cylinders  displacement horsepower  \\\n",
       "car_name                                                                 \n",
       "\"chrysler lebaron medallion\"  26.0          4         156.0      92.00   \n",
       "\"ford granada l\"              22.0          6         232.0      112.0   \n",
       "\"toyota celica gt\"            32.0          4         144.0      96.00   \n",
       "\"dodge charger 2.2\"           36.0          4         135.0      84.00   \n",
       "\"chevrolet camaro\"            27.0          4         151.0      90.00   \n",
       "\"ford mustang gl\"             27.0          4         140.0      86.00   \n",
       "\"vw pickup\"                   44.0          4          97.0      52.00   \n",
       "\"dodge rampage\"               32.0          4         135.0      84.00   \n",
       "\"ford ranger\"                 28.0          4         120.0      79.00   \n",
       "\"chevy s-10\"                  31.0          4         119.0      82.00   \n",
       "\n",
       "                              weight  acceleration  model_year  origin  \n",
       "car_name                                                                \n",
       "\"chrysler lebaron medallion\"  2585.0          14.5          82     USA  \n",
       "\"ford granada l\"              2835.0          14.7          82     USA  \n",
       "\"toyota celica gt\"            2665.0          13.9          82  Europe  \n",
       "\"dodge charger 2.2\"           2370.0          13.0          82     USA  \n",
       "\"chevrolet camaro\"            2950.0          17.3          82     USA  \n",
       "\"ford mustang gl\"             2790.0          15.6          82     USA  \n",
       "\"vw pickup\"                   2130.0          24.6          82    Asia  \n",
       "\"dodge rampage\"               2295.0          11.6          82     USA  \n",
       "\"ford ranger\"                 2625.0          18.6          82     USA  \n",
       "\"chevy s-10\"                  2720.0          19.4          82     USA  "
      ]
     },
     "execution_count": 90,
     "metadata": {},
     "output_type": "execute_result"
    }
   ],
   "source": [
    "cars[\"origin\"].replace([1,2,3], (['USA', 'Asia', 'Europe']), inplace=True)\n",
    "cars.tail(10)"
   ]
  },
  {
   "cell_type": "markdown",
   "metadata": {},
   "source": [
    "### Create a bar chart that shows the distribution for cylinders."
   ]
  },
  {
   "cell_type": "code",
   "execution_count": 91,
   "metadata": {},
   "outputs": [
    {
     "data": {
      "text/plain": [
       "<matplotlib.axes._subplots.AxesSubplot at 0x6d87c358>"
      ]
     },
     "execution_count": 91,
     "metadata": {},
     "output_type": "execute_result"
    },
    {
     "data": {
      "image/png": "[encoded data removed]",
      "text/plain": [
       "<matplotlib.figure.Figure at 0x6c9f9748>"
      ]
     },
     "metadata": {},
     "output_type": "display_data"
    }
   ],
   "source": [
    "sns.set_style('whitegrid')\n",
    "newset = cars.groupby('cylinders')\n",
    "newset['cylinders'].count().plot.bar(title=\"Cylinder Distribution\")"
   ]
  },
  {
   "cell_type": "markdown",
   "metadata": {},
   "source": [
    "### Create a scatterplot that shows the relationship between horsepower and weight."
   ]
  },
  {
   "cell_type": "code",
   "execution_count": 92,
   "metadata": {},
   "outputs": [
    {
     "data": {
      "text/plain": [
       "<matplotlib.collections.PathCollection at 0x717dd630>"
      ]
     },
     "execution_count": 92,
     "metadata": {},
     "output_type": "execute_result"
    },
    {
     "data": {
      "image/png": "[encoded data removed]",
      "text/plain": [
       "<matplotlib.figure.Figure at 0x70cb38d0>"
      ]
     },
     "metadata": {},
     "output_type": "display_data"
    }
   ],
   "source": [
    "colors = ['green','blue']\n",
    "plt.scatter(cars.weight, cars.horsepower, c=colors)"
   ]
  },
  {
   "cell_type": "markdown",
   "metadata": {},
   "source": [
    "### How is horsepower and miles per gallon distributed among different countries?"
   ]
  },
  {
   "cell_type": "code",
   "execution_count": 93,
   "metadata": {},
   "outputs": [
    {
     "data": {
      "text/plain": [
       "<matplotlib.axes._subplots.AxesSubplot at 0x6f1fa208>"
      ]
     },
     "execution_count": 93,
     "metadata": {},
     "output_type": "execute_result"
    },
    {
     "data": {
      "image/png": "[encoded data removed]",
      "text/plain": [
       "<matplotlib.figure.Figure at 0x70c915c0>"
      ]
     },
     "metadata": {},
     "output_type": "display_data"
    }
   ],
   "source": [
    "sns.set_style('darkgrid')\n",
    "newset = cars.groupby('origin')\n",
    "newset['horsepower','mpg'].count().plot.bar(title=\"Car Specs By Origin\")"
   ]
  },
  {
   "cell_type": "markdown",
   "metadata": {},
   "source": [
    "### How is horsepower, acceleration, and weight distributed by model year?"
   ]
  },
  {
   "cell_type": "code",
   "execution_count": 94,
   "metadata": {},
   "outputs": [
    {
     "data": {
      "text/plain": [
       "<matplotlib.axes._subplots.AxesSubplot at 0x6df703c8>"
      ]
     },
     "execution_count": 94,
     "metadata": {},
     "output_type": "execute_result"
    },
    {
     "data": {
      "image/png": "[encoded data removed]",
      "text/plain": [
       "<matplotlib.figure.Figure at 0x6dd8c7f0>"
      ]
     },
     "metadata": {},
     "output_type": "display_data"
    }
   ],
   "source": [
    "sns.set_style('whitegrid')\n",
    "newset = cars.groupby('model_year')\n",
    "newset['horsepower','weight','acceleration'].count().plot.bar(title=\"Car Specs by Year\")"
   ]
  }
 ],
 "metadata": {
  "kernelspec": {
   "display_name": "Python 2",
   "language": "python",
   "name": "python2"
  },
  "language_info": {
   "codemirror_mode": {
    "name": "ipython",
    "version": 2
   },
   "file_extension": ".py",
   "mimetype": "text/x-python",
   "name": "python",
   "nbconvert_exporter": "python",
   "pygments_lexer": "ipython2",
   "version": "2.7.13"
  }
 },
 "nbformat": 4,
 "nbformat_minor": 2
}
